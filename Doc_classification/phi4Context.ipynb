{
 "cells": [
  {
   "cell_type": "markdown",
   "id": "90d993e6",
   "metadata": {},
   "source": [
    "# Document Classifcaiton using Open LLM models  \n",
    "\n",
    "## Presteps \n",
    "\n",
    "- Pull required llam pretrained models \n",
    "\n",
    "!ollama pull phi4-mini gemma3:latest  mistral:7b\n",
    "\n",
    "- create classifcaiton Key Value Context \n",
    "- Collection text files that are extracted from the original text \n",
    "  \n",
    "\n"
   ]
  },
  {
   "cell_type": "code",
   "execution_count": null,
   "id": "fb24cb6b",
   "metadata": {},
   "outputs": [
    {
     "name": "stdout",
     "output_type": "stream",
     "text": [
      "NAME                ID              SIZE      MODIFIED          \n",
      "llama3:latest       365c0bd3c000    4.7 GB    33 minutes ago       \n",
      "gemma3:latest       a2af6cc3eb7f    3.3 GB    41 minutes ago       \n",
      "phi4-mini:latest    78fad5d182a7    2.5 GB    About an hour ago    \n",
      "mistral:7b          f974a74358d6    4.1 GB    7 days ago           \n"
     ]
    }
   ],
   "source": [
    "!ollama list"
   ]
  },
  {
   "cell_type": "code",
   "execution_count": 1,
   "id": "903a0620",
   "metadata": {},
   "outputs": [],
   "source": [
    "import ollama \n",
    "import json \n",
    "import time \n",
    "import os\n",
    "\n",
    "\n",
    "def getModelResponse(document_text, model=\"phi4-mini\",classification_json_path='data/classification.json'):\n",
    "    \"\"\"\n",
    "    Gets a classification response from the Ollama model using context from classification.json.\n",
    "    Returns a dict with 'type' and 'score'.\n",
    "    \"\"\"\n",
    "    with open(classification_json_path, 'r') as f:\n",
    "        classification_context = json.load(f)\n",
    "    \n",
    "    context_str = \"Document Types and Descriptions:\\n\"\n",
    "    for doc_type, desc in classification_context.items():\n",
    "        context_str += f\"- {doc_type}: {desc}\\n\"\n",
    "    \n",
    "    prompt = (\n",
    "        f\"{context_str}\\n\"\n",
    "        \"Given the above document types, classify the following document and return only the type:\\n\\n\"\n",
    "        f\"{document_text}\"\n",
    "    )\n",
    "\n",
    "    response = ollama.chat(\n",
    "        model=model,\n",
    "        messages=[\n",
    "            {'role': 'user', 'content': prompt},\n",
    "        ]\n",
    "    )\n",
    "    doc_type = response['message']['content']\n",
    "    score = 1.0  # Placeholder score, replace with actual logic if available\n",
    "\n",
    "    return {'type': doc_type, 'score': score}\n"
   ]
  },
  {
   "cell_type": "code",
   "execution_count": 2,
   "id": "ea4b804b",
   "metadata": {},
   "outputs": [
    {
     "name": "stdout",
     "output_type": "stream",
     "text": [
      "phi4-mini Document Type: {'type': \"Mr. AI Tester is most closely classified as:\\n\\nResume\\n\\nThe provided document contains the individual's professional summary highlighting their skills and experience in IT with emphasis on work history (Experience), education details including degree obtained, technical proficiencies listed under 'Technical Skills', alongside certifications which are part of a resume's educational section.\\n\\nProfessional Experience entries clearly delineate past roles at specific companies along with responsibilities that have been undertaken by the individual. This aligns well to what is typically found in an individual's employment history within their CV/resume documentation aimed towards job applications or career progression discussions, hence placing it under Resume type as per your instructions for classification based on document descriptions provided earlier.\", 'score': 1.0}  Execution Duration: 25.04 seconds\n",
      "llama3 Document Type: {'type': 'Resume', 'score': 1.0}  Execution Duration: 35.79 seconds\n",
      "gemma3 Document Type: {'type': 'Resume', 'score': 1.0}  Execution Duration: 0.46 seconds\n",
      "mistral:7b Document Type: {'type': ' Resume', 'score': 1.0}  Execution Duration: 0.57 seconds\n",
      "\t\t\t******* \n",
      "phi4-mini Document Type: {'type': 'Job Post', 'score': 1.0}  Execution Duration: 15.55 seconds\n",
      "llama3 Document Type: {'type': 'Job Post', 'score': 1.0}  Execution Duration: 30.18 seconds\n",
      "gemma3 Document Type: {'type': 'Job Post', 'score': 1.0}  Execution Duration: 8.14 seconds\n",
      "mistral:7b Document Type: {'type': ' Job Post', 'score': 1.0}  Execution Duration: 20.41 seconds\n",
      "\t\t\t******* \n",
      "phi4-mini Document Type: {'type': 'Job Post', 'score': 1.0}  Execution Duration: 13.46 seconds\n",
      "llama3 Document Type: {'type': 'Letter', 'score': 1.0}  Execution Duration: 28.17 seconds\n",
      "gemma3 Document Type: {'type': 'Letter', 'score': 1.0}  Execution Duration: 7.05 seconds\n",
      "mistral:7b Document Type: {'type': ' The document provided is a Job Offer or Job Posting.', 'score': 1.0}  Execution Duration: 18.45 seconds\n",
      "\t\t\t******* \n"
     ]
    }
   ],
   "source": [
    "import time\n",
    "\n",
    "files = ['file1.txt', 'file2.txt', 'file3.txt']\n",
    "models = ['phi4-mini', 'llama3', 'gemma3','mistral:7b']\n",
    "# models = ['llama3']\n",
    "\n",
    "\n",
    "for file in files:\n",
    "    file_path = f'data/{file}'\n",
    "    with open(file_path, 'r') as file:\n",
    "        content = file.read().strip()\n",
    "\n",
    "        for model in models:\n",
    "            start_time = time.time()\n",
    "            doctype = getModelResponse( content, model)\n",
    "            end_time = time.time()\n",
    "            print(f\"{model} Document Type: {doctype}  Execution Duration: {end_time - start_time:.2f} seconds\")\n",
    "\n",
    "        print(\"\\t\\t\\t******* \")\n",
    "\n"
   ]
  }
 ],
 "metadata": {
  "kernelspec": {
   "display_name": "myenv",
   "language": "python",
   "name": "python3"
  },
  "language_info": {
   "codemirror_mode": {
    "name": "ipython",
    "version": 3
   },
   "file_extension": ".py",
   "mimetype": "text/x-python",
   "name": "python",
   "nbconvert_exporter": "python",
   "pygments_lexer": "ipython3",
   "version": "3.13.3"
  }
 },
 "nbformat": 4,
 "nbformat_minor": 5
}
