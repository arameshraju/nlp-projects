{
 "cells": [
  {
   "cell_type": "code",
   "execution_count": null,
   "id": "f8085da8",
   "metadata": {},
   "outputs": [],
   "source": [
    "pip install presidio-analyzer\n",
    "pip install presidio-anonymizer\n",
    "python -m spacy download en_core_web_lg"
   ]
  },
  {
   "cell_type": "code",
   "execution_count": 2,
   "id": "34614cf0",
   "metadata": {},
   "outputs": [
    {
     "name": "stdout",
     "output_type": "stream",
     "text": [
      "Original: My name is John Doe and my phone number is 212-555-1234.\n",
      "Anonymized: My name is <PERSON> and my phone number is <PHONE_NUMBER>.\n"
     ]
    }
   ],
   "source": [
    "from presidio_analyzer import AnalyzerEngine\n",
    "from presidio_anonymizer import AnonymizerEngine\n",
    "\n",
    "# Initialize engines\n",
    "analyzer = AnalyzerEngine()\n",
    "anonymizer = AnonymizerEngine()\n",
    "\n",
    "# Input text\n",
    "text = \"My name is John Doe and my phone number is 212-555-1234.\"\n",
    "\n",
    "# Analyze\n",
    "results = analyzer.analyze(text=text, entities=[\"PERSON\", \"PHONE_NUMBER\"], language=\"en\")\n",
    "\n",
    "# Anonymize\n",
    "anonymized_text = anonymizer.anonymize(text=text, analyzer_results=results)\n",
    "\n",
    "print(\"Original:\", text)\n",
    "print(\"Anonymized:\", anonymized_text.text)"
   ]
  }
 ],
 "metadata": {
  "kernelspec": {
   "display_name": "myenv",
   "language": "python",
   "name": "python3"
  },
  "language_info": {
   "codemirror_mode": {
    "name": "ipython",
    "version": 3
   },
   "file_extension": ".py",
   "mimetype": "text/x-python",
   "name": "python",
   "nbconvert_exporter": "python",
   "pygments_lexer": "ipython3",
   "version": "3.13.3"
  }
 },
 "nbformat": 4,
 "nbformat_minor": 5
}
