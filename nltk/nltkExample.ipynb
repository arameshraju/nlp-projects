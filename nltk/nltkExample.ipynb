{
 "cells": [
  {
   "cell_type": "markdown",
   "id": "a0429c01",
   "metadata": {},
   "source": [
    "# NLTK sample Model creation \n",
    "- Preprocessing Text\n",
    "- Extract Features \n",
    "- Train Classification\n",
    "- Evolution the classification\n",
    "\n",
    "\n",
    "referencer : https://github.com/LinkedInLearning/ai-projects-with-python-tensorflow-and-nltk-4512163/tree/main"
   ]
  },
  {
   "cell_type": "code",
   "execution_count": 1,
   "id": "bf81fc0c",
   "metadata": {},
   "outputs": [
    {
     "name": "stderr",
     "output_type": "stream",
     "text": [
      "[nltk_data] Downloading package vader_lexicon to\n",
      "[nltk_data]     C:\\Users\\Allur\\AppData\\Roaming\\nltk_data...\n"
     ]
    },
    {
     "name": "stdout",
     "output_type": "stream",
     "text": [
      "{'neg': 0.0, 'neu': 0.465, 'pos': 0.535, 'compound': 0.784}\n"
     ]
    }
   ],
   "source": [
    "# Importing necessary libraries\n",
    "import nltk\n",
    "from nltk.sentiment import SentimentIntensityAnalyzer\n",
    "\n",
    "# Download the vader_lexicon package\n",
    "nltk.download('vader_lexicon')\n",
    "\n",
    "def analyze_sentiment(text):\n",
    "    # Initialize the VADER sentiment intensity analyzer\n",
    "    sia = SentimentIntensityAnalyzer()\n",
    "\n",
    "    # Compute and print the sentiment scores\n",
    "    sentiment = sia.polarity_scores(text)\n",
    "    print(sentiment)\n",
    "\n",
    "# Test the function with a sample text\n",
    "analyze_sentiment(\"NLTK is a great library for Natural Language Processing!\")"
   ]
  },
  {
   "cell_type": "markdown",
   "id": "c870a9b0",
   "metadata": {},
   "source": [
    "#  Custom processing  Movie review "
   ]
  },
  {
   "cell_type": "code",
   "execution_count": 2,
   "id": "a7231d03",
   "metadata": {},
   "outputs": [
    {
     "name": "stderr",
     "output_type": "stream",
     "text": [
      "[nltk_data] Downloading package movie_reviews to\n",
      "[nltk_data]     C:\\Users\\Allur\\AppData\\Roaming\\nltk_data...\n",
      "[nltk_data]   Unzipping corpora\\movie_reviews.zip.\n"
     ]
    },
    {
     "name": "stdout",
     "output_type": "stream",
     "text": [
      "0.82\n",
      "Most Informative Features\n",
      "   contains(outstanding) = True              pos : neg    =     11.2 : 1.0\n",
      "         contains(mulan) = True              pos : neg    =      8.2 : 1.0\n",
      "        contains(seagal) = True              neg : pos    =      7.9 : 1.0\n",
      "   contains(wonderfully) = True              pos : neg    =      7.4 : 1.0\n",
      "         contains(damon) = True              pos : neg    =      6.3 : 1.0\n"
     ]
    }
   ],
   "source": [
    "import nltk\n",
    "from nltk.corpus import movie_reviews\n",
    "from nltk.classify import NaiveBayesClassifier\n",
    "from nltk.classify.util import accuracy\n",
    "import random\n",
    "nltk.download('movie_reviews')\n",
    "\n",
    "# Prepare the dataset\n",
    "documents = [(list(movie_reviews.words(fileid)), category)\n",
    "              for category in movie_reviews.categories()\n",
    "              for fileid in movie_reviews.fileids(category)]\n",
    "\n",
    "# Shuffle the documents\n",
    "random.shuffle(documents)\n",
    "\n",
    "# Define the feature extractor\n",
    "all_words = nltk.FreqDist(w.lower() for w in movie_reviews.words())\n",
    "word_features = list(all_words)[:2000]\n",
    "\n",
    "def document_features(document):\n",
    "    document_words = set(document)\n",
    "    features = {}\n",
    "    for word in word_features:\n",
    "        features['contains({})'.format(word)] = (word in document_words)\n",
    "    return features\n",
    "\n",
    "# Train the classifier\n",
    "featuresets = [(document_features(d), c) for (d,c) in documents]\n",
    "train_set, test_set = featuresets[100:], featuresets[:100]\n",
    "classifier = NaiveBayesClassifier.train(train_set)\n",
    "\n",
    "# Test the classifier\n",
    "print(accuracy(classifier, test_set))\n",
    "\n",
    "# Show the most important features\n",
    "classifier.show_most_informative_features(5)"
   ]
  },
  {
   "cell_type": "code",
   "execution_count": null,
   "id": "a2df0643",
   "metadata": {},
   "outputs": [],
   "source": []
  }
 ],
 "metadata": {
  "kernelspec": {
   "display_name": "myenv",
   "language": "python",
   "name": "python3"
  },
  "language_info": {
   "codemirror_mode": {
    "name": "ipython",
    "version": 3
   },
   "file_extension": ".py",
   "mimetype": "text/x-python",
   "name": "python",
   "nbconvert_exporter": "python",
   "pygments_lexer": "ipython3",
   "version": "3.13.3"
  }
 },
 "nbformat": 4,
 "nbformat_minor": 5
}
