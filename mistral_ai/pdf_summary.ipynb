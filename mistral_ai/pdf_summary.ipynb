{
 "cells": [
  {
   "cell_type": "markdown",
   "id": "b8449ac8",
   "metadata": {},
   "source": [
    "### for linux \n",
    "curl -fsSL https://ollama.ai/install.sh | sh\n",
    "### for windows download below location and install\n",
    "\n",
    "https://ollama.com/download\n",
    "\n",
    "\n",
    "### download model \n",
    "ollama pull mistral:7b\n",
    "\n",
    "\n",
    "ollama list\n",
    "\n",
    "\n"
   ]
  }
 ],
 "metadata": {
  "kernelspec": {
   "display_name": "myenv",
   "language": "python",
   "name": "python3"
  },
  "language_info": {
   "name": "python",
   "version": "3.13.3"
  }
 },
 "nbformat": 4,
 "nbformat_minor": 5
}
