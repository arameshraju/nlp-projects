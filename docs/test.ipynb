{
 "cells": [
  {
   "cell_type": "markdown",
   "id": "e38afd13",
   "metadata": {},
   "source": [
    "## PDF content extractor"
   ]
  },
  {
   "cell_type": "code",
   "execution_count": 1,
   "id": "eb350365",
   "metadata": {},
   "outputs": [
    {
     "name": "stdout",
     "output_type": "stream",
     "text": [
      "Time taken: 0:00:02.496030\n",
      "Text extracted and saved to C:\\test\\pdf_extracted_text.txt\n"
     ]
    }
   ],
   "source": [
    "import PyPDF2\n",
    "import os\n",
    "from datetime import datetime\n",
    "\n",
    "def extract_pdf_text(pdf_path):\n",
    "    try:\n",
    "        # Open the PDF file\n",
    "        with open(pdf_path, 'rb') as file:\n",
    "            # Create a PDF reader object\n",
    "            pdf_reader = PyPDF2.PdfReader(file)\n",
    "            \n",
    "            # Initialize a variable to store extracted text\n",
    "            text = \"\"\n",
    "            \n",
    "            # Iterate through all pages\n",
    "            for page in pdf_reader.pages:\n",
    "                # Extract text from each page and append it\n",
    "                page_text = page.extract_text()\n",
    "                if page_text:\n",
    "                    text += page_text + \"\\n\"\n",
    "            \n",
    "            return text\n",
    "    \n",
    "    except FileNotFoundError:\n",
    "        return \"Error: The specified PDF file was not found.\"\n",
    "    except Exception as e:\n",
    "        return f\"Error: An unexpected error occurred: {str(e)}\"\n",
    "\n",
    "# Example usage\n",
    "if __name__ == \"__main__\":\n",
    "    start_time =  datetime.now()\n",
    "    pdf_file_path = \"C:\\\\test\\\\IRM.pdf\"  # Replace with your PDF file path\n",
    "    extracted_text = extract_pdf_text(pdf_file_path)\n",
    "    end_time = datetime.now()\n",
    "    elapsed_time = end_time - start_time\n",
    "    print(f\"Time taken: {elapsed_time}\")\n",
    "    \n",
    "    # create a text file to save the extracted text\n",
    "    output_file_path = \"C:\\\\test\\\\pdf_extracted_text.txt\"  # Replace with your desired output path\n",
    "    with open(output_file_path, 'w', encoding='utf-8') as output_file:\n",
    "        output_file.write(extracted_text)   \n",
    "    print(f\"Text extracted and saved to {output_file_path}\")\n",
    "    "
   ]
  },
  {
   "cell_type": "code",
   "execution_count": 2,
   "id": "c767d83c",
   "metadata": {},
   "outputs": [
    {
     "name": "stderr",
     "output_type": "stream",
     "text": [
      "c:\\new_works\\nlp-projects\\myenv\\Lib\\site-packages\\tqdm\\auto.py:21: TqdmWarning: IProgress not found. Please update jupyter and ipywidgets. See https://ipywidgets.readthedocs.io/en/stable/user_install.html\n",
      "  from .autonotebook import tqdm as notebook_tqdm\n"
     ]
    },
    {
     "name": "stdout",
     "output_type": "stream",
     "text": [
      "Time taken: 0:00:00.001327\n",
      "Text extracted and saved to C:\\test\\docling_extracted_text.txt\n"
     ]
    }
   ],
   "source": [
    "from docling.document_converter import DocumentConverter\n",
    "from pathlib import Path\n",
    "\n",
    "def extract_pdf_textWithDocling(pdf_path):\n",
    "    try:\n",
    "        # Initialize the DocumentConverter\n",
    "        converter = DocumentConverter()\n",
    "        \n",
    "        # Convert the PDF file\n",
    "        source = Path(pdf_path)\n",
    "        result = converter.convert_single(source)\n",
    "        \n",
    "        # Extract text content from the converted document\n",
    "        text = result.text if hasattr(result, 'text') else \"\"\n",
    "        \n",
    "        return text if text else \"No text could be extracted from the PDF.\"\n",
    "    \n",
    "    except FileNotFoundError:\n",
    "        return \"Error: The specified PDF file was not found.\"\n",
    "    except Exception as e:\n",
    "        return f\"Error: An unexpected error occurred: {str(e)}\"\n",
    "\n",
    "# Example usage\n",
    "if __name__ == \"__main__\":\n",
    "    start_time =  datetime.now()\n",
    "    pdf_file_path = \"C:\\\\test\\\\IRM.pdf\"  # Replace with your PDF file path\n",
    "    extracted_text = extract_pdf_textWithDocling(pdf_file_path)\n",
    "    end_time = datetime.now()\n",
    "    elapsed_time = end_time - start_time\n",
    "    print(f\"Time taken: {elapsed_time}\")\n",
    "    \n",
    "    # create a text file to save the extracted text\n",
    "    output_file_path = \"C:\\\\test\\\\docling_extracted_text.txt\"  # Replace with your desired output path\n",
    "    with open(output_file_path, 'w', encoding='utf-8') as output_file:\n",
    "        output_file.write(extracted_text)   \n",
    "    print(f\"Text extracted and saved to {output_file_path}\")\n"
   ]
  }
 ],
 "metadata": {
  "kernelspec": {
   "display_name": "myenv",
   "language": "python",
   "name": "python3"
  },
  "language_info": {
   "codemirror_mode": {
    "name": "ipython",
    "version": 3
   },
   "file_extension": ".py",
   "mimetype": "text/x-python",
   "name": "python",
   "nbconvert_exporter": "python",
   "pygments_lexer": "ipython3",
   "version": "3.13.3"
  }
 },
 "nbformat": 4,
 "nbformat_minor": 5
}
